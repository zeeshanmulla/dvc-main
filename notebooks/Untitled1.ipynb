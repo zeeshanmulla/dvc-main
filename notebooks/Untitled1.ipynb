{
 "cells": [
  {
   "cell_type": "code",
   "execution_count": 1,
   "id": "jewish-psychology",
   "metadata": {},
   "outputs": [
    {
     "data": {
      "text/plain": [
       "'/home/c17hawke/Desktop/MLOPS/DEMO/new/simple_app/notebooks'"
      ]
     },
     "execution_count": 1,
     "metadata": {},
     "output_type": "execute_result"
    }
   ],
   "source": [
    "pwd"
   ]
  },
  {
   "cell_type": "code",
   "execution_count": null,
   "id": "international-vegetation",
   "metadata": {},
   "outputs": [],
   "source": []
  },
  {
   "cell_type": "code",
   "execution_count": 4,
   "id": "final-rwanda",
   "metadata": {},
   "outputs": [
    {
     "name": "stdout",
     "output_type": "stream",
     "text": [
      "{   'creation_timestamp': 1616168170123,\n",
      "    'current_stage': 'Staging',\n",
      "    'description': '',\n",
      "    'last_updated_timestamp': 1616169752564,\n",
      "    'name': 'ElasticNetWineModel',\n",
      "    'run_id': 'e2af303f91284f19bf2a3f93c42ee1fd',\n",
      "    'run_link': '',\n",
      "    'source': './artifacts/1/e2af303f91284f19bf2a3f93c42ee1fd/artifacts/model',\n",
      "    'status': 'READY',\n",
      "    'status_message': '',\n",
      "    'tags': {},\n",
      "    'user_id': '',\n",
      "    'version': '1'}\n",
      "{   'creation_timestamp': 1616168232272,\n",
      "    'current_stage': 'Staging',\n",
      "    'description': '',\n",
      "    'last_updated_timestamp': 1616169752585,\n",
      "    'name': 'ElasticNetWineModel',\n",
      "    'run_id': '94a41b160424400baba82c7d0e63fb7b',\n",
      "    'run_link': '',\n",
      "    'source': './artifacts/1/94a41b160424400baba82c7d0e63fb7b/artifacts/model',\n",
      "    'status': 'READY',\n",
      "    'status_message': '',\n",
      "    'tags': {},\n",
      "    'user_id': '',\n",
      "    'version': '2'}\n",
      "{   'creation_timestamp': 1616168260637,\n",
      "    'current_stage': 'Production',\n",
      "    'description': '',\n",
      "    'last_updated_timestamp': 1616169752611,\n",
      "    'name': 'ElasticNetWineModel',\n",
      "    'run_id': '484d66f9a5f0422680ee816ac73a0f01',\n",
      "    'run_link': '',\n",
      "    'source': './artifacts/1/484d66f9a5f0422680ee816ac73a0f01/artifacts/model',\n",
      "    'status': 'READY',\n",
      "    'status_message': '',\n",
      "    'tags': {},\n",
      "    'user_id': '',\n",
      "    'version': '3'}\n"
     ]
    }
   ],
   "source": [
    "from src.get_data import read_params\n",
    "import argparse\n",
    "import mlflow\n",
    "from mlflow.tracking import MlflowClient\n",
    "from pprint import pprint\n",
    "import joblib\n",
    "import os\n",
    "\n",
    "os.chdir('/home/c17hawke/Desktop/MLOPS/DEMO/new/simple_app')\n",
    "\n",
    "\n",
    "def log_production_model(config_path):\n",
    "    config = read_params(config_path)\n",
    "    \n",
    "    \n",
    "    mlflow_config = config[\"mlflow_config\"] \n",
    "    \n",
    "\n",
    "    model_name = mlflow_config[\"registered_model_name\"]\n",
    "\n",
    "\n",
    "    remote_server_uri = mlflow_config[\"remote_server_uri\"]\n",
    "\n",
    "    mlflow.set_tracking_uri(remote_server_uri)\n",
    "    \n",
    "    \n",
    "    runs = mlflow.search_runs(experiment_ids=1)\n",
    "    lowest = runs[\"metrics.mae\"].sort_values(ascending=True)[0]\n",
    "    lowest_run_id = runs[runs[\"metrics.mae\"] == lowest][\"run_id\"][0]\n",
    "    \n",
    "\n",
    "    client = MlflowClient()\n",
    "    for mv in client.search_model_versions(f\"name='{model_name}'\"):\n",
    "        mv = dict(mv)\n",
    "        pprint(mv, indent=4)\n",
    "        \n",
    "#         if mv[\"run_id\"] == lowest_run_id:\n",
    "#             current_version = mv[\"version\"]\n",
    "#             logged_model = mv[\"source\"]\n",
    "#             pprint(mv, indent=4)\n",
    "#             client.transition_model_version_stage(\n",
    "#                 name=model_name,\n",
    "#                 version=current_version,\n",
    "#                 stage=\"Production\"\n",
    "#             )\n",
    "#         else:\n",
    "#             current_version = mv[\"version\"]\n",
    "#             client.transition_model_version_stage(\n",
    "#                 name=model_name,\n",
    "#                 version=current_version,\n",
    "#                 stage=\"Staging\"\n",
    "#             )        \n",
    "\n",
    "\n",
    "#     loaded_model = mlflow.pyfunc.load_model(logged_model)\n",
    "    \n",
    "#     model_path = config[\"webapp_model_dir\"] #\"prediction_service/model\"\n",
    "\n",
    "#     joblib.dump(loaded_model, model_path)\n",
    "\n",
    "log_production_model(\"params.yaml\")"
   ]
  },
  {
   "cell_type": "code",
   "execution_count": 3,
   "id": "lightweight-maple",
   "metadata": {},
   "outputs": [
    {
     "name": "stdout",
     "output_type": "stream",
     "text": [
      "mlruns\tschema_in.json\tUntitled1.ipynb  Untitled.ipynb\n"
     ]
    }
   ],
   "source": [
    "!ls"
   ]
  },
  {
   "cell_type": "code",
   "execution_count": null,
   "id": "national-argument",
   "metadata": {},
   "outputs": [],
   "source": []
  }
 ],
 "metadata": {
  "kernelspec": {
   "display_name": "Python 3",
   "language": "python",
   "name": "python3"
  },
  "language_info": {
   "codemirror_mode": {
    "name": "ipython",
    "version": 3
   },
   "file_extension": ".py",
   "mimetype": "text/x-python",
   "name": "python",
   "nbconvert_exporter": "python",
   "pygments_lexer": "ipython3",
   "version": "3.7.10"
  }
 },
 "nbformat": 4,
 "nbformat_minor": 5
}
